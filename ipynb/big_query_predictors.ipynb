{
 "cells": [
  {
   "cell_type": "code",
   "execution_count": 3,
   "id": "1364538a-2325-448a-b448-f6702c0e5c9a",
   "metadata": {},
   "outputs": [
    {
     "name": "stdout",
     "output_type": "stream",
     "text": [
      "Please wait for 5 minutes for the export to Cloud Storage to complete\n"
     ]
    }
   ],
   "source": [
    "import ee\n",
    "import os\n",
    "\n",
    "\n",
    "# Initialize the Earth Engine API\n",
    "ee.Initialize()\n",
    "\n",
    "\n",
    "\n",
    "# Specify a region in the US (roughly the state of Colorado) to reduce the export time for the sake of example\n",
    "colorado = ee.Geometry.Rectangle([-104, 37, -102, 38]);\n",
    "\n",
    "# Select the first (and only) image from the Cropland image collection for the year 2019, and the cropland band, which gives us the crop type.\n",
    "# Currently, geobeam will only ingest a single band from a GeoTIFF at time.\n",
    "image = ee.Image(\"projects/ee-stormwaterheatmap/assets/predictors/scaled_predictors_nov2021\") \n",
    "mask = ee.Image(\"projects/ee-stormwaterheatmap/assets/PugetSoundMask\")\n",
    "pm25_na = image.select('pm25_na').mask(mask);\n",
    "\n",
    "study_area = ee.Geometry.Polygon(\n",
    "        [[[-124.75, 49],\n",
    "          [-124.75, 46.55],\n",
    "          [-120.64, 46.55],\n",
    "          [-120.64, 49]]]\n",
    ")\n",
    "\n",
    "task_config = {\n",
    "    'description': 'pm25_na',\n",
    "    'crs': 'EPSG:4326',  # specify this projection to ensure Biquery can ingest it properly\n",
    "    'scale': 30, # also necessary to specify scale when reprojecting (30m is the original dataset scale)\n",
    "    'bucket': 'ee-image-exports',\n",
    "    'fileNamePrefix': 'pm25_na_export',\n",
    "    'region': study_area,\n",
    "    'maxPixels': 1e12 #increase max pixels limit for exports \n",
    "}\n",
    "\n",
    "task = ee.batch.Export.image.toCloudStorage(pm25_na, **task_config)\n",
    "task.start()\n"
   ]
  },
  {
   "cell_type": "code",
   "execution_count": 5,
   "id": "2101e3c3-7403-4342-92ce-93370f10fd6b",
   "metadata": {},
   "outputs": [],
   "source": [
    "!export GOOGLE_APPLICATION_CREDENTIALS=\"~/Documents/secrets/tncKey.json\""
   ]
  },
  {
   "cell_type": "code",
   "execution_count": 8,
   "id": "d4db2983-6df2-4787-8946-e073dd5c6e3e",
   "metadata": {},
   "outputs": [],
   "source": [
    "import geobeam"
   ]
  },
  {
   "cell_type": "code",
   "execution_count": 2,
   "id": "decd9afa-88b5-4b9a-bab6-30529bf38630",
   "metadata": {},
   "outputs": [
    {
     "ename": "SyntaxError",
     "evalue": "invalid syntax (338747256.py, line 1)",
     "output_type": "error",
     "traceback": [
      "\u001b[0;36m  Input \u001b[0;32mIn [2]\u001b[0;36m\u001b[0m\n\u001b[0;31m    python -m geobeam.examples.crop_geotiff\u001b[0m\n\u001b[0m              ^\u001b[0m\n\u001b[0;31mSyntaxError\u001b[0m\u001b[0;31m:\u001b[0m invalid syntax\n"
     ]
    }
   ],
   "source": [
    "python -m geobeam.examples.crop_geotiff --runner DataflowRunner --worker_harness_container_image gcr.io/dataflow-geobeam/example --experiment use_runner_v2 --project tnc-data-v1 --temp_location gs://ee-geobeam/ --region us-west1 --gcs_url gs://ee-image-exports/pm25_int.tif --dataset tnc_stormwaterheatmap_predictors --table copper_int --band_column pm25_na_int --max_num_workers 4 --machine_type c2-standard-4 --merge_blocks 10 --centroid_only true --service_account_email 976069723145-compute@developer.gserviceaccount.com"
   ]
  },
  {
   "cell_type": "code",
   "execution_count": null,
   "id": "2742d267-d494-4ff2-901c-d017d931d855",
   "metadata": {},
   "outputs": [],
   "source": []
  },
  {
   "cell_type": "code",
   "execution_count": null,
   "id": "b1efecb3-31b5-4f7f-9a91-5a2c165c7e54",
   "metadata": {},
   "outputs": [],
   "source": [
    "python3 -m geobeam.examples.crop_geotiff --region us-west1 --input gs://ee-image-exports/pm25_na_export.tif\n",
    "--output gs://ee-geobeam --runner DataflowRunner --project tnc-data-v1 --temp_location gs://STORAGE_BUCKET/temp/"
   ]
  }
 ],
 "metadata": {
  "kernelspec": {
   "display_name": "Python 3 (ipykernel)",
   "language": "python",
   "name": "python3"
  },
  "language_info": {
   "codemirror_mode": {
    "name": "ipython",
    "version": 3
   },
   "file_extension": ".py",
   "mimetype": "text/x-python",
   "name": "python",
   "nbconvert_exporter": "python",
   "pygments_lexer": "ipython3",
   "version": "3.9.12"
  }
 },
 "nbformat": 4,
 "nbformat_minor": 5
}
