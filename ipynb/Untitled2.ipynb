{
 "cells": [
  {
   "cell_type": "code",
   "execution_count": 9,
   "id": "bf2a819f-530c-4071-bfa0-0fe87312df28",
   "metadata": {},
   "outputs": [],
   "source": [
    "import ee\n",
    "import os"
   ]
  },
  {
   "cell_type": "code",
   "execution_count": 3,
   "id": "54c521d8-bf15-4a9d-862f-13ffd1f7fa8c",
   "metadata": {},
   "outputs": [],
   "source": [
    "project = 'tnc-data-v1'"
   ]
  },
  {
   "cell_type": "code",
   "execution_count": 14,
   "id": "3521e5d0-1e74-424a-b010-af5d79aedfe9",
   "metadata": {},
   "outputs": [
    {
     "data": {
      "text/plain": [
       "'/Users/christiannilsen/Documents/repos/TNC_Stormwater_Statistics/ipynb'"
      ]
     },
     "execution_count": 14,
     "metadata": {},
     "output_type": "execute_result"
    }
   ],
   "source": [
    "os.getcwd()"
   ]
  },
  {
   "cell_type": "code",
   "execution_count": 17,
   "id": "09cd54af-e766-4ea3-ae33-11edb652f226",
   "metadata": {},
   "outputs": [
    {
     "name": "stdout",
     "output_type": "stream",
     "text": [
      "{'id': 'LANDSAT',\n",
      " 'name': 'projects/earthengine-public/assets/LANDSAT',\n",
      " 'type': 'FOLDER'}\n"
     ]
    }
   ],
   "source": [
    "from google.auth.transport.requests import AuthorizedSession\n",
    "from google.oauth2 import service_account\n",
    "\n",
    "credentials = service_account.Credentials.from_service_account_file('/Users/christiannilsen/Documents/secrets/tncKey.json')\n",
    "scoped_credentials = credentials.with_scopes(\n",
    "    ['https://www.googleapis.com/auth/cloud-platform'])\n",
    "\n",
    "session = AuthorizedSession(scoped_credentials)\n",
    "\n",
    "url = 'https://earthengine.googleapis.com/v1alpha/projects/earthengine-public/assets/LANDSAT'\n",
    "\n",
    "response = session.get(url)\n",
    "\n",
    "from pprint import pprint\n",
    "import json\n",
    "pprint(json.loads(response.content))"
   ]
  }
 ],
 "metadata": {
  "kernelspec": {
   "display_name": "Python 3 (ipykernel)",
   "language": "python",
   "name": "python3"
  },
  "language_info": {
   "codemirror_mode": {
    "name": "ipython",
    "version": 3
   },
   "file_extension": ".py",
   "mimetype": "text/x-python",
   "name": "python",
   "nbconvert_exporter": "python",
   "pygments_lexer": "ipython3",
   "version": "3.9.12"
  }
 },
 "nbformat": 4,
 "nbformat_minor": 5
}
